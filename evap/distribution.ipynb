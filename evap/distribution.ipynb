{
 "cells": [
  {
   "cell_type": "markdown",
   "id": "02cc6a96-ad7b-4b45-8766-bdfbe85a83c0",
   "metadata": {},
   "source": [
    "# Distribution and Time Series Analysis\n",
    "This notebook visualizes distributions and time series of evaporation data."
   ]
  },
  {
   "cell_type": "code",
   "execution_count": 1,
   "id": "4c44c46e-c101-445a-b2b1-62fd087ceaf0",
   "metadata": {},
   "outputs": [],
   "source": [
    "# Import libraries\n",
    "import numpy as np\n",
    "import pandas as pd\n",
    "import matplotlib.pyplot as plt\n",
    "import seaborn as sns"
   ]
  },
  {
   "cell_type": "markdown",
   "id": "75facd44-3ce6-4c8e-83bf-7f7afc7bf1e4",
   "metadata": {},
   "source": [
    "## Plot Configuration\n",
    "Set parameters."
   ]
  },
  {
   "cell_type": "code",
   "execution_count": 2,
   "id": "12258aaa-bbe8-4b29-bd92-0d860808c7a0",
   "metadata": {},
   "outputs": [],
   "source": [
    "# Configure Matplotlib parameters for consistent plot styling\n",
    "plt.rcParams.update({\n",
    "    'font.size': 16,              # Set default font size\n",
    "    'axes.labelsize': 16,         # Set axis label font size\n",
    "    'xtick.labelsize': 16,        # Set x-tick label font size\n",
    "    'ytick.labelsize': 16,        # Set y-tick label font size\n",
    "    'axes.linewidth': 1.2,        # Set axis line width\n",
    "    'xtick.major.width': 1.2,     # Set x-tick line width\n",
    "    'ytick.major.width': 1.2,     # Set y-tick line width\n",
    "    'savefig.format': 'png',      # Save figures in PNG format\n",
    "    'savefig.bbox': 'tight',      # Use tight layout for saved figures\n",
    "    'font.family': 'Times New Roman',  # Set font family\n",
    "    'text.usetex': False          # Disable LaTeX rendering for text\n",
    "})"
   ]
  },
  {
   "cell_type": "markdown",
   "id": "5baef3d1-917e-4b49-81ff-cd5429a2283e",
   "metadata": {},
   "source": [
    "## Data Loading\n",
    "Load data."
   ]
  },
  {
   "cell_type": "code",
   "execution_count": 3,
   "id": "16ee191f-3a79-41dc-8566-e3f2e4d13189",
   "metadata": {},
   "outputs": [],
   "source": [
    "# Load evaporation data\n",
    "data = pd.read_csv(\"../dataset/evaporations.csv\")"
   ]
  },
  {
   "cell_type": "markdown",
   "id": "461d4d73-d131-4321-ae9f-d95315fb3f4c",
   "metadata": {},
   "source": [
    "## Extract Variables\n",
    "Extract dates and values."
   ]
  },
  {
   "cell_type": "code",
   "execution_count": 4,
   "id": "a386ec76-8211-452a-8273-5f27a9774394",
   "metadata": {},
   "outputs": [],
   "source": [
    "# Convert dates\n",
    "dates = pd.to_datetime(data['DATE'])\n",
    "# Extract values\n",
    "y = data['Observed']\n",
    "x1 = data['WQ2EV']\n",
    "x2 = data['WQMG2EV']\n",
    "x3 = data['Penman']"
   ]
  },
  {
   "cell_type": "markdown",
   "id": "9052a240-6248-4e27-81a5-37d4b7ef90ae",
   "metadata": {},
   "source": [
    "## Plot Distributions\n",
    "Visualize KDE distributions."
   ]
  },
  {
   "cell_type": "code",
   "execution_count": 5,
   "id": "232d4677-ca56-4a4c-8229-f422bb5cb186",
   "metadata": {},
   "outputs": [],
   "source": [
    "# Create figure for distributions\n",
    "plt.figure(figsize=(10, 8), dpi=600)\n",
    "# Plot KDE for each\n",
    "sns.kdeplot(x3, label='Penman-FAO', color='orange', linewidth=2, fill=True, linestyle='-.', alpha=0.2)\n",
    "sns.kdeplot(x1, label='WQ2EV BO-LSTM', color='lime', linewidth=2, fill=True, alpha=0.2)\n",
    "sns.kdeplot(x2, label='WQMG2EV BO-LSTM', color='red', linewidth=2, fill=True, linestyle='-')\n",
    "sns.kdeplot(y, label='Observations', color='black', linewidth=3, fill=True, alpha=0.3)\n",
    "\n",
    "# Labels\n",
    "plt.xlabel('EV (mm/day)', fontsize=20)\n",
    "plt.ylabel('Density', fontsize=20)\n",
    "plt.xticks(fontsize=16)\n",
    "plt.yticks(fontsize=16)\n",
    "\n",
    "# Legend and save\n",
    "plt.legend(fontsize=16, frameon=False)\n",
    "plt.tight_layout()\n",
    "plt.savefig(f\"./../plots/distribution.png\", dpi=600, bbox_inches='tight')\n",
    "plt.close()\n",
    "# plt.show()"
   ]
  },
  {
   "cell_type": "markdown",
   "id": "592823aa-68f3-4cf0-a313-f261c3670d13",
   "metadata": {},
   "source": [
    "## Plot Time Series - WQ2EV\n",
    "Plot observations vs WQ2EV."
   ]
  },
  {
   "cell_type": "code",
   "execution_count": 6,
   "id": "f9b7ef01-5928-4334-a87f-deeff584805b",
   "metadata": {},
   "outputs": [],
   "source": [
    "# Plot WQ2EV with observations\n",
    "plt.figure(figsize=(10, 8), dpi=600)\n",
    "plt.plot(dates, y, label='Observations', color='black', linewidth=3, alpha=0.6)\n",
    "plt.plot(dates, x1, label='WQ2EV BO-LSTM', color='lime', linewidth=3)\n",
    "plt.xlabel('Date', fontsize=20)\n",
    "plt.ylabel('EV (mm/day)', fontsize=20)\n",
    "plt.ylim(0, 12)\n",
    "plt.xticks(fontsize=18, rotation=45)\n",
    "plt.yticks(fontsize=18)\n",
    "plt.legend(fontsize=18, frameon=False)\n",
    "plt.tight_layout()\n",
    "plt.savefig(f\"./../plots/wq2ev.png\", dpi=600, bbox_inches='tight')\n",
    "plt.close()\n",
    "#plt.show()"
   ]
  },
  {
   "cell_type": "markdown",
   "id": "87ee8a3c-eb68-4476-9d0d-fb1ffce12e75",
   "metadata": {},
   "source": [
    "## Plot Time Series - WQMG2EV\n",
    "Plot observations vs WQMG2EV."
   ]
  },
  {
   "cell_type": "code",
   "execution_count": 7,
   "id": "60b3c7d3-bb78-4179-ae7a-7e641d735684",
   "metadata": {},
   "outputs": [],
   "source": [
    "# Plot WQMG2EV with observations\n",
    "plt.figure(figsize=(10, 8), dpi=600)\n",
    "plt.plot(dates, y, label='Observations', color='black', linewidth=3, alpha=0.6)\n",
    "plt.plot(dates, x2, label='WQMG2EV BO-LSTM', color='red', linewidth=3)\n",
    "plt.xlabel('Date', fontsize=20)\n",
    "plt.ylabel('EV (mm/day)', fontsize=20)\n",
    "plt.ylim(0, 12)\n",
    "plt.xticks(fontsize=18, rotation=45)\n",
    "plt.yticks(fontsize=18)\n",
    "plt.legend(fontsize=18, frameon=False)\n",
    "plt.tight_layout()\n",
    "plt.savefig(f\"./../plots/wqmg2ev.png\", dpi=600, bbox_inches='tight')\n",
    "plt.close()\n",
    "# plt.show()"
   ]
  },
  {
   "cell_type": "code",
   "execution_count": null,
   "id": "fef13fbc-5ace-4e71-8269-39c6ae9f4b07",
   "metadata": {},
   "outputs": [],
   "source": []
  },
  {
   "cell_type": "code",
   "execution_count": 8,
   "id": "9a41f093-ff9b-45d8-9e2b-83e4b0d234cc",
   "metadata": {},
   "outputs": [],
   "source": [
    "# Penman-FAO (x3) with Observations\n",
    "plt.figure(figsize=(10, 8), dpi=600)\n",
    "plt.plot(dates, y, label='Observations', color='black', linewidth=3, alpha=0.6)\n",
    "plt.plot(dates, x3, label='Penman-FAO', color='orange', linewidth=3)\n",
    "plt.xlabel('Date', fontsize=20)\n",
    "plt.ylabel('EV (mm/day)', fontsize=20)\n",
    "plt.ylim(0, 12)\n",
    "plt.xticks(fontsize=18, rotation=45)\n",
    "plt.yticks(fontsize=18)\n",
    "plt.legend(fontsize=18, frameon=False)\n",
    "plt.tight_layout()\n",
    "plt.savefig(f\"./../plots/penman2ev.png\", dpi=600, bbox_inches='tight')\n",
    "plt.legend(loc='upper left')\n",
    "\n",
    "plt.close()\n",
    "# plt.show()"
   ]
  }
 ],
 "metadata": {
  "kernelspec": {
   "display_name": "Python 3 (ipykernel)",
   "language": "python",
   "name": "python3"
  },
  "language_info": {
   "codemirror_mode": {
    "name": "ipython",
    "version": 3
   },
   "file_extension": ".py",
   "mimetype": "text/x-python",
   "name": "python",
   "nbconvert_exporter": "python",
   "pygments_lexer": "ipython3",
   "version": "3.12.9"
  }
 },
 "nbformat": 4,
 "nbformat_minor": 5
}
