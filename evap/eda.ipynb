{
 "cells": [
  {
   "cell_type": "markdown",
   "id": "f897fe98-6200-4bee-83c5-6d9a25b921ce",
   "metadata": {},
   "source": [
    "# Exploratory Data Analysis\n",
    "This notebook performs normality tests and visualizes distributions of selected variables."
   ]
  },
  {
   "cell_type": "code",
   "execution_count": 1,
   "id": "f8aa95eb-502f-4db0-a5b0-7d37b373ee7f",
   "metadata": {},
   "outputs": [],
   "source": [
    "# Import required libraries for data manipulation, statistical tests, and visualization\n",
    "\n",
    "import pandas as pd\n",
    "import numpy as np\n",
    "from scipy.stats import shapiro, kstest\n",
    "import matplotlib.pyplot as plt\n",
    "import seaborn as sns\n",
    "from scipy.stats import kendalltau"
   ]
  },
  {
   "cell_type": "markdown",
   "id": "494abae1-6d98-4164-bc63-4de8058b533d",
   "metadata": {},
   "source": [
    "## Plot Configuration\n",
    "Configure Matplotlib parameters for consistent and professional plot styling."
   ]
  },
  {
   "cell_type": "code",
   "execution_count": 2,
   "id": "22c61cb2-cc0e-4a3b-8441-41d1130cba82",
   "metadata": {},
   "outputs": [],
   "source": [
    "# Configure Matplotlib parameters for consistent plot styling\n",
    "plt.rcParams.update({\n",
    "    'font.size': 16,              # Set default font size\n",
    "    'axes.labelsize': 16,         # Set axis label font size\n",
    "    'xtick.labelsize': 16,        # Set x-tick label font size\n",
    "    'ytick.labelsize': 16,        # Set y-tick label font size\n",
    "    'axes.linewidth': 1.2,        # Set axis line width\n",
    "    'xtick.major.width': 1.2,     # Set x-tick line width\n",
    "    'ytick.major.width': 1.2,     # Set y-tick line width\n",
    "    'savefig.format': 'png',      # Save figures in PNG format\n",
    "    'savefig.bbox': 'tight',      # Use tight layout for saved figures\n",
    "    'font.family': 'Times New Roman',  # Set font family\n",
    "    'text.usetex': False          # Disable LaTeX rendering for text\n",
    "})"
   ]
  },
  {
   "cell_type": "markdown",
   "id": "ab8b5bf7-c1f2-453c-b5b8-86549b964f21",
   "metadata": {},
   "source": [
    "## Data Loading\n",
    "Load the dataset and select relevant columns, dropping any missing values."
   ]
  },
  {
   "cell_type": "code",
   "execution_count": 3,
   "id": "e47e7a21-cea1-4d12-bf1b-52f9d8ecbea1",
   "metadata": {},
   "outputs": [],
   "source": [
    "# Read the CSV file into a DataFrame\n",
    "df = pd.read_csv('../dataset/data.csv')\n",
    "# Define columns of interest\n",
    "columns = ['T', 'TSM', 'CHL', 'CDOM', 'EV']\n",
    "# Select columns and drop rows with NaN values\n",
    "data = df[columns].dropna()"
   ]
  },
  {
   "cell_type": "markdown",
   "id": "3b4f6c13-127a-4fa3-bfb5-2e7a9401f835",
   "metadata": {},
   "source": [
    "## Normality Testing Function\n",
    "Define a function to perform Shapiro-Wilk and Kolmogorov-Smirnov tests for normality."
   ]
  },
  {
   "cell_type": "code",
   "execution_count": 4,
   "id": "1c56cca0-2c43-4503-a055-8a92d61ca706",
   "metadata": {},
   "outputs": [],
   "source": [
    "def test_normality(data, column):\n",
    "    # Perform Shapiro-Wilk test\n",
    "    stat_sw, p_sw = shapiro(data[column])\n",
    "    print(f'Shapiro-Wilk Test for {column}:')\n",
    "    print(f'Statistic: {stat_sw}, p-value: {p_sw}')\n",
    "    if p_sw > 0.05:\n",
    "        print(f'{column} appears normally distributed (p > 0.05).')\n",
    "    else:\n",
    "        print(f'{column} does not appear normally distributed (p ≤ 0.05).')\n",
    "    print()\n",
    "    # Normalize data for KS test\n",
    "    data_normalized = (data[column] - data[column].mean()) / data[column].std()\n",
    "    # Perform Kolmogorov-Smirnov test\n",
    "    stat_ks, p_ks = kstest(data_normalized, 'norm')\n",
    "    print(f'Kolmogorov-Smirnov Test for {column}:')\n",
    "    print(f'Statistic: {stat_ks}, p-value: {p_ks}')\n",
    "    if p_ks > 0.05:\n",
    "        print(f'{column} appears normally distributed (p > 0.05).')\n",
    "    else:\n",
    "        print(f'{column} does not appear normally distributed (p ≤ 0.05).')\n",
    "    print()\n",
    "    return stat_sw, p_sw, stat_ks, p_ks"
   ]
  },
  {
   "cell_type": "markdown",
   "id": "96818a45-ac24-4b82-acd3-d3e1d7fd3501",
   "metadata": {},
   "source": [
    "## Perform Normality Tests and Prepare Table\n",
    "Run normality tests on each column and compile results into a table."
   ]
  },
  {
   "cell_type": "code",
   "execution_count": 5,
   "id": "7cf1ebd6-8c5b-477b-bcdd-aca31d2713bc",
   "metadata": {},
   "outputs": [
    {
     "name": "stdout",
     "output_type": "stream",
     "text": [
      "Shapiro-Wilk Test for T:\n",
      "Statistic: 0.9554771922784835, p-value: 2.711899106539829e-07\n",
      "T does not appear normally distributed (p ≤ 0.05).\n",
      "\n",
      "Kolmogorov-Smirnov Test for T:\n",
      "Statistic: 0.09552300529920998, p-value: 0.01427703340519887\n",
      "T does not appear normally distributed (p ≤ 0.05).\n",
      "\n",
      "Shapiro-Wilk Test for TSM:\n",
      "Statistic: 0.9394579841640055, p-value: 5.079866008457815e-09\n",
      "TSM does not appear normally distributed (p ≤ 0.05).\n",
      "\n",
      "Kolmogorov-Smirnov Test for TSM:\n",
      "Statistic: 0.11137089328248018, p-value: 0.002435405617728651\n",
      "TSM does not appear normally distributed (p ≤ 0.05).\n",
      "\n",
      "Shapiro-Wilk Test for CHL:\n",
      "Statistic: 0.9329347763238338, p-value: 1.2091153724580618e-09\n",
      "CHL does not appear normally distributed (p ≤ 0.05).\n",
      "\n",
      "Kolmogorov-Smirnov Test for CHL:\n",
      "Statistic: 0.09684380252899993, p-value: 0.012448983109398104\n",
      "CHL does not appear normally distributed (p ≤ 0.05).\n",
      "\n",
      "Shapiro-Wilk Test for CDOM:\n",
      "Statistic: 0.963159730307284, p-value: 2.4552722155404775e-06\n",
      "CDOM does not appear normally distributed (p ≤ 0.05).\n",
      "\n",
      "Kolmogorov-Smirnov Test for CDOM:\n",
      "Statistic: 0.11366632712900304, p-value: 0.001842987718618761\n",
      "CDOM does not appear normally distributed (p ≤ 0.05).\n",
      "\n",
      "Shapiro-Wilk Test for EV:\n",
      "Statistic: 0.9553686359770798, p-value: 2.6329208349129675e-07\n",
      "EV does not appear normally distributed (p ≤ 0.05).\n",
      "\n",
      "Kolmogorov-Smirnov Test for EV:\n",
      "Statistic: 0.10431207387540331, p-value: 0.005536858740372454\n",
      "EV does not appear normally distributed (p ≤ 0.05).\n",
      "\n"
     ]
    }
   ],
   "source": [
    "# Run normality tests for each column\n",
    "results = [test_normality(data, col) for col in columns]\n",
    "# Prepare table data with metrics\n",
    "table_data = [\n",
    "    ['Metric', 'T', 'TSM', 'CHL', 'CDOM', 'EV'],\n",
    "    ['SW'] + [f'{stat_sw:.2f}' for stat_sw, _, _, _ in results],\n",
    "    ['p$_{SW}$'] + [f'{p_sw:.1e}' for _, p_sw, _, _ in results],\n",
    "    ['KS'] + [f'{stat_ks:.2f}' for _, _, stat_ks, _ in results],\n",
    "    ['p$_{KS}$'] + [f'{p_ks:.2f}' for _, _, _, p_ks in results],\n",
    "    ['Normality'] + ['None' for _ in columns]\n",
    "]"
   ]
  },
  {
   "cell_type": "markdown",
   "id": "bfbb0864-3cb8-42d3-a63a-13bd5d313a9d",
   "metadata": {},
   "source": [
    "## Visualize Distributions and Table\n",
    "Create histograms for each variable and display the normality test results in a table."
   ]
  },
  {
   "cell_type": "code",
   "execution_count": 6,
   "id": "bbe3de9d-04cd-4bff-a0ba-008f8cde9b81",
   "metadata": {},
   "outputs": [],
   "source": [
    "# Create a 3x2 subplot grid\n",
    "fig, axes = plt.subplots(3, 2, figsize=(10, 12), dpi=600)\n",
    "axes = axes.flatten()\n",
    "\n",
    "# Define color palette\n",
    "colors = sns.color_palette(\"Set2\", n_colors=5)\n",
    "# Plot histograms for each column\n",
    "for i, col in enumerate(columns):\n",
    "    sns.histplot(data[col], bins=50, kde=True, color=colors[i], ax=axes[i])\n",
    "    axes[i].set_xlabel(col)\n",
    "    axes[i].set_ylabel('Frequency')\n",
    "    axes[i].set_title('')\n",
    "\n",
    "# Add table to the last subplot\n",
    "table = axes[5].table(cellText=table_data, loc='center', cellLoc='center',\n",
    "                      colWidths=[0.2, 0.16, 0.16, 0.16, 0.16, 0.16])\n",
    "\n",
    "# Customize table appearance\n",
    "table.auto_set_font_size(False)\n",
    "table.set_fontsize(14)\n",
    "table.scale(1.2, 2.0)\n",
    "for (i, j), cell in table.get_celld().items():\n",
    "    if i == 0:\n",
    "        cell.set_text_props(weight='bold')\n",
    "    cell.set_facecolor('#F5F5F5' if i % 2 == 0 else '#FFFFFF')\n",
    "    cell.set_edgecolor('none')\n",
    "    cell.set_linewidth(0 if j > 0 and j < len(table_data[0]) else 1)\n",
    "# Turn off axis for table subplot\n",
    "axes[5].axis('off')\n",
    "\n",
    "# Adjust layout and save figure\n",
    "plt.tight_layout()\n",
    "plt.savefig(f\"./../plots/normality.png\", dpi=600, bbox_inches='tight')\n",
    "plt.close()\n",
    "# plt.show()"
   ]
  },
  {
   "cell_type": "markdown",
   "id": "c72cbb91-9dcb-4f15-86ac-d499b142080c",
   "metadata": {},
   "source": [
    "## Perform Kendall’s correlations"
   ]
  },
  {
   "cell_type": "code",
   "execution_count": 7,
   "id": "ce0586e6-120f-47bf-a110-1daa1a7b9ccf",
   "metadata": {},
   "outputs": [
    {
     "name": "stdout",
     "output_type": "stream",
     "text": [
      "Correlation between T and EV:\n",
      "Kendall’s: τ = 0.7465574047478246, p-value = 7.561264124933377e-74\n",
      "Kendall’s: Significant correlation (p < 0.05).\n",
      "\n",
      "Correlation between TSM and EV:\n",
      "Kendall’s: τ = 0.01917715637408127, p-value = 0.6405186091810806\n",
      "Kendall’s: No significant correlation (p ≥ 0.05).\n",
      "\n",
      "Correlation between CHL and EV:\n",
      "Kendall’s: τ = -0.3459491425192194, p-value = 3.6371028655468153e-17\n",
      "Kendall’s: Significant correlation (p < 0.05).\n",
      "\n",
      "Correlation between CDOM and EV:\n",
      "Kendall’s: τ = -0.19681225535749486, p-value = 1.6473081808910434e-06\n",
      "Kendall’s: Significant correlation (p < 0.05).\n",
      "\n"
     ]
    }
   ],
   "source": [
    "predictors = ['T', 'TSM', 'CHL', 'CDOM']\n",
    "for pred in predictors:\n",
    "    # Kendall’s correlation\n",
    "    stat_kend, p_kend = kendalltau(data[pred], data['EV'])\n",
    "    print(f'Correlation between {pred} and EV:')\n",
    "    print(f'Kendall’s: τ = {stat_kend}, p-value = {p_kend}')\n",
    "    if p_kend < 0.05:\n",
    "        print(f'Kendall’s: Significant correlation (p < 0.05).')\n",
    "    else:\n",
    "        print(f'Kendall’s: No significant correlation (p ≥ 0.05).')\n",
    "    print()"
   ]
  }
 ],
 "metadata": {
  "kernelspec": {
   "display_name": "Python 3 (ipykernel)",
   "language": "python",
   "name": "python3"
  },
  "language_info": {
   "codemirror_mode": {
    "name": "ipython",
    "version": 3
   },
   "file_extension": ".py",
   "mimetype": "text/x-python",
   "name": "python",
   "nbconvert_exporter": "python",
   "pygments_lexer": "ipython3",
   "version": "3.12.9"
  }
 },
 "nbformat": 4,
 "nbformat_minor": 5
}
