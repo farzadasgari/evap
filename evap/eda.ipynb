{
 "cells": [
  {
   "cell_type": "code",
   "execution_count": 1,
   "id": "f8aa95eb-502f-4db0-a5b0-7d37b373ee7f",
   "metadata": {},
   "outputs": [],
   "source": [
    "import pandas as pd\n",
    "import numpy as np\n",
    "from scipy.stats import shapiro, kstest\n",
    "import matplotlib.pyplot as plt\n",
    "import seaborn as sns"
   ]
  },
  {
   "cell_type": "code",
   "execution_count": 2,
   "id": "22c61cb2-cc0e-4a3b-8441-41d1130cba82",
   "metadata": {},
   "outputs": [],
   "source": [
    "plt.rcParams.update({\n",
    "    'font.size': 16,\n",
    "    'axes.labelsize': 16,\n",
    "    'xtick.labelsize': 16,\n",
    "    'ytick.labelsize': 16,\n",
    "    'axes.linewidth': 1.2,\n",
    "    'xtick.major.width': 1.2,\n",
    "    'ytick.major.width': 1.2,\n",
    "    'savefig.format': 'png',\n",
    "    'savefig.bbox': 'tight',\n",
    "    'font.family': 'Times New Roman',\n",
    "    'text.usetex': False\n",
    "})"
   ]
  },
  {
   "cell_type": "code",
   "execution_count": 3,
   "id": "e47e7a21-cea1-4d12-bf1b-52f9d8ecbea1",
   "metadata": {},
   "outputs": [],
   "source": [
    "df = pd.read_csv('../dataset/data.csv')\n",
    "columns = ['T', 'TSM', 'CHL', 'CDOM', 'EV']\n",
    "data = df[columns].dropna()"
   ]
  },
  {
   "cell_type": "code",
   "execution_count": 4,
   "id": "1c56cca0-2c43-4503-a055-8a92d61ca706",
   "metadata": {},
   "outputs": [],
   "source": [
    "def test_normality(data, column):\n",
    "    stat_sw, p_sw = shapiro(data[column])\n",
    "    print(f'Shapiro-Wilk Test for {column}:')\n",
    "    print(f'Statistic: {stat_sw}, p-value: {p_sw}')\n",
    "    if p_sw > 0.05:\n",
    "        print(f'{column} appears normally distributed (p > 0.05).')\n",
    "    else:\n",
    "        print(f'{column} does not appear normally distributed (p ≤ 0.05).')\n",
    "    print()\n",
    "    data_normalized = (data[column] - data[column].mean()) / data[column].std()\n",
    "    stat_ks, p_ks = kstest(data_normalized, 'norm')\n",
    "    print(f'Kolmogorov-Smirnov Test for {column}:')\n",
    "    print(f'Statistic: {stat_ks}, p-value: {p_ks}')\n",
    "    if p_ks > 0.05:\n",
    "        print(f'{column} appears normally distributed (p > 0.05).')\n",
    "    else:\n",
    "        print(f'{column} does not appear normally distributed (p ≤ 0.05).')\n",
    "    print()\n",
    "    return stat_sw, p_sw, stat_ks, p_ks"
   ]
  },
  {
   "cell_type": "code",
   "execution_count": 5,
   "id": "7cf1ebd6-8c5b-477b-bcdd-aca31d2713bc",
   "metadata": {},
   "outputs": [
    {
     "name": "stdout",
     "output_type": "stream",
     "text": [
      "Shapiro-Wilk Test for T:\n",
      "Statistic: 0.9554771922784835, p-value: 2.711899106539829e-07\n",
      "T does not appear normally distributed (p ≤ 0.05).\n",
      "\n",
      "Kolmogorov-Smirnov Test for T:\n",
      "Statistic: 0.09552300529920998, p-value: 0.01427703340519887\n",
      "T does not appear normally distributed (p ≤ 0.05).\n",
      "\n",
      "Shapiro-Wilk Test for TSM:\n",
      "Statistic: 0.9394579841640055, p-value: 5.079866008457815e-09\n",
      "TSM does not appear normally distributed (p ≤ 0.05).\n",
      "\n",
      "Kolmogorov-Smirnov Test for TSM:\n",
      "Statistic: 0.11137089328248018, p-value: 0.002435405617728651\n",
      "TSM does not appear normally distributed (p ≤ 0.05).\n",
      "\n",
      "Shapiro-Wilk Test for CHL:\n",
      "Statistic: 0.9329347763238338, p-value: 1.2091153724580618e-09\n",
      "CHL does not appear normally distributed (p ≤ 0.05).\n",
      "\n",
      "Kolmogorov-Smirnov Test for CHL:\n",
      "Statistic: 0.09684380252899993, p-value: 0.012448983109398104\n",
      "CHL does not appear normally distributed (p ≤ 0.05).\n",
      "\n",
      "Shapiro-Wilk Test for CDOM:\n",
      "Statistic: 0.963159730307284, p-value: 2.4552722155404775e-06\n",
      "CDOM does not appear normally distributed (p ≤ 0.05).\n",
      "\n",
      "Kolmogorov-Smirnov Test for CDOM:\n",
      "Statistic: 0.11366632712900304, p-value: 0.001842987718618761\n",
      "CDOM does not appear normally distributed (p ≤ 0.05).\n",
      "\n",
      "Shapiro-Wilk Test for EV:\n",
      "Statistic: 0.9553686359770798, p-value: 2.6329208349129675e-07\n",
      "EV does not appear normally distributed (p ≤ 0.05).\n",
      "\n",
      "Kolmogorov-Smirnov Test for EV:\n",
      "Statistic: 0.10431207387540331, p-value: 0.005536858740372454\n",
      "EV does not appear normally distributed (p ≤ 0.05).\n",
      "\n"
     ]
    }
   ],
   "source": [
    "results = [test_normality(data, col) for col in columns]\n",
    "table_data = [\n",
    "    ['Metric', 'T', 'TSM', 'CHL', 'CDOM', 'EV'],\n",
    "    ['SW'] + [f'{stat_sw:.4f}' for stat_sw, _, _, _ in results],\n",
    "    ['p$_{SW}$'] + [f'{p_sw:.2e}' for _, p_sw, _, _ in results],\n",
    "    ['KS'] + [f'{stat_ks:.4f}' for _, _, stat_ks, _ in results],\n",
    "    ['p$_{KS}$'] + [f'{p_ks:.4f}' for _, _, _, p_ks in results],\n",
    "    ['Normality'] + ['None' for _ in columns]\n",
    "]"
   ]
  },
  {
   "cell_type": "code",
   "execution_count": 6,
   "id": "bbe3de9d-04cd-4bff-a0ba-008f8cde9b81",
   "metadata": {},
   "outputs": [],
   "source": [
    "fig, axes = plt.subplots(3, 2, figsize=(10, 12), dpi=600)\n",
    "axes = axes.flatten()\n",
    "\n",
    "colors = sns.color_palette(\"Set2\", n_colors=5)\n",
    "for i, col in enumerate(columns):\n",
    "    sns.histplot(data[col], bins=50, kde=True, color=colors[i], ax=axes[i])\n",
    "    axes[i].set_xlabel(col)\n",
    "    axes[i].set_ylabel('Frequency')\n",
    "    axes[i].set_title('')\n",
    "\n",
    "# Format everything as strings with desired style\n",
    "formatted_table_data = []\n",
    "for row in table_data:\n",
    "    formatted_row = []\n",
    "    for val in row:\n",
    "        if isinstance(val, (int, float)):\n",
    "            formatted_row.append(f\"{val:.1e}\")\n",
    "        else:\n",
    "            formatted_row.append(str(val))\n",
    "    formatted_table_data.append(formatted_row)\n",
    "\n",
    "# Use the formatted version in the table\n",
    "table = axes[5].table(cellText=formatted_table_data, loc='center', cellLoc='center',\n",
    "                      colWidths=[0.2, 0.16, 0.16, 0.16, 0.16, 0.16])\n",
    "\n",
    "table.auto_set_font_size(False)\n",
    "table.set_fontsize(14)\n",
    "table.scale(1.2, 2.0)\n",
    "for (i, j), cell in table.get_celld().items():\n",
    "    if i == 0:\n",
    "        cell.set_text_props(weight='bold')\n",
    "    cell.set_facecolor('#F5F5F5' if i % 2 == 0 else '#FFFFFF')\n",
    "    cell.set_edgecolor('none')\n",
    "    cell.set_linewidth(0 if j > 0 and j < len(table_data[0]) else 1)\n",
    "axes[5].axis('off')\n",
    "\n",
    "plt.tight_layout()\n",
    "\n",
    "# Save figure as PNG with notebook name\n",
    "plt.savefig(f\"./../plots/normality.png\", dpi=600, bbox_inches='tight')\n",
    "\n",
    "plt.close()\n",
    "# plt.show()"
   ]
  }
 ],
 "metadata": {
  "kernelspec": {
   "display_name": "Python 3 (ipykernel)",
   "language": "python",
   "name": "python3"
  },
  "language_info": {
   "codemirror_mode": {
    "name": "ipython",
    "version": 3
   },
   "file_extension": ".py",
   "mimetype": "text/x-python",
   "name": "python",
   "nbconvert_exporter": "python",
   "pygments_lexer": "ipython3",
   "version": "3.12.9"
  }
 },
 "nbformat": 4,
 "nbformat_minor": 5
}
