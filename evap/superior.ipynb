{
 "cells": [
  {
   "cell_type": "markdown",
   "id": "55a9082f-9fb9-4aa5-b86d-1ec39fb36388",
   "metadata": {},
   "source": [
    "# Model Loss Analysis\n",
    "This notebook visualizes the loss curves for different models."
   ]
  },
  {
   "cell_type": "code",
   "execution_count": 1,
   "id": "e04590d0-2b91-44ae-97a1-fb9a50dd323b",
   "metadata": {},
   "outputs": [],
   "source": [
    "# Import libraries for data manipulation and visualization\n",
    "\n",
    "import numpy as pd\n",
    "import pandas as pd\n",
    "import matplotlib.pyplot as plt\n",
    "import seaborn as sns"
   ]
  },
  {
   "cell_type": "markdown",
   "id": "8bc3d3eb-caab-4f9e-adbe-08812c189ddf",
   "metadata": {},
   "source": [
    "## Plot Configuration\n",
    "Set up Matplotlib parameters for consistent plotting."
   ]
  },
  {
   "cell_type": "code",
   "execution_count": 2,
   "id": "fef22237-cb78-4ffb-b8d7-ed876c2f1896",
   "metadata": {},
   "outputs": [],
   "source": [
    "# Configure Matplotlib parameters for consistent plot styling\n",
    "plt.rcParams.update({\n",
    "    'font.size': 16,              # Set default font size\n",
    "    'axes.labelsize': 16,         # Set axis label font size\n",
    "    'xtick.labelsize': 16,        # Set x-tick label font size\n",
    "    'ytick.labelsize': 16,        # Set y-tick label font size\n",
    "    'axes.linewidth': 1.2,        # Set axis line width\n",
    "    'xtick.major.width': 1.2,     # Set x-tick line width\n",
    "    'ytick.major.width': 1.2,     # Set y-tick line width\n",
    "    'savefig.format': 'png',      # Save figures in PNG format\n",
    "    'savefig.bbox': 'tight',      # Use tight layout for saved figures\n",
    "    'font.family': 'Times New Roman',  # Set font family\n",
    "    'text.usetex': False          # Disable LaTeX rendering for text\n",
    "})"
   ]
  },
  {
   "cell_type": "markdown",
   "id": "9ad33065-fa1b-41ed-8465-2c53477a2b86",
   "metadata": {},
   "source": [
    "## Data Loading\n",
    "Load the loss history data from CSV."
   ]
  },
  {
   "cell_type": "code",
   "execution_count": 3,
   "id": "e5e0b4f7-2b14-4150-bf5d-9225435011dc",
   "metadata": {},
   "outputs": [
    {
     "data": {
      "text/html": [
       "<div>\n",
       "<style scoped>\n",
       "    .dataframe tbody tr th:only-of-type {\n",
       "        vertical-align: middle;\n",
       "    }\n",
       "\n",
       "    .dataframe tbody tr th {\n",
       "        vertical-align: top;\n",
       "    }\n",
       "\n",
       "    .dataframe thead th {\n",
       "        text-align: right;\n",
       "    }\n",
       "</style>\n",
       "<table border=\"1\" class=\"dataframe\">\n",
       "  <thead>\n",
       "    <tr style=\"text-align: right;\">\n",
       "      <th></th>\n",
       "      <th>Epoch</th>\n",
       "      <th>Loss_all</th>\n",
       "      <th>Loss_quality</th>\n",
       "    </tr>\n",
       "  </thead>\n",
       "  <tbody>\n",
       "    <tr>\n",
       "      <th>0</th>\n",
       "      <td>1</td>\n",
       "      <td>0.137179</td>\n",
       "      <td>0.184514</td>\n",
       "    </tr>\n",
       "    <tr>\n",
       "      <th>1</th>\n",
       "      <td>2</td>\n",
       "      <td>0.060803</td>\n",
       "      <td>0.062291</td>\n",
       "    </tr>\n",
       "    <tr>\n",
       "      <th>2</th>\n",
       "      <td>3</td>\n",
       "      <td>0.033317</td>\n",
       "      <td>0.051054</td>\n",
       "    </tr>\n",
       "    <tr>\n",
       "      <th>3</th>\n",
       "      <td>4</td>\n",
       "      <td>0.020256</td>\n",
       "      <td>0.039606</td>\n",
       "    </tr>\n",
       "    <tr>\n",
       "      <th>4</th>\n",
       "      <td>5</td>\n",
       "      <td>0.020261</td>\n",
       "      <td>0.032217</td>\n",
       "    </tr>\n",
       "  </tbody>\n",
       "</table>\n",
       "</div>"
      ],
      "text/plain": [
       "   Epoch  Loss_all  Loss_quality\n",
       "0      1  0.137179      0.184514\n",
       "1      2  0.060803      0.062291\n",
       "2      3  0.033317      0.051054\n",
       "3      4  0.020256      0.039606\n",
       "4      5  0.020261      0.032217"
      ]
     },
     "execution_count": 3,
     "metadata": {},
     "output_type": "execute_result"
    }
   ],
   "source": [
    "# Load loss history data\n",
    "df = pd.read_csv(\"../models/bolstm/bolstm_loss_history.csv\")\n",
    "# Display first few rows\n",
    "df.head()"
   ]
  },
  {
   "cell_type": "markdown",
   "id": "fa6b3e94-3f1a-47e8-a471-90ff393fb746",
   "metadata": {},
   "source": [
    "## Plot Loss Curves\n",
    "Visualize the loss curves for different models."
   ]
  },
  {
   "cell_type": "code",
   "execution_count": 4,
   "id": "c10de4dd-0aa8-4e8a-912b-40978c98771c",
   "metadata": {},
   "outputs": [],
   "source": [
    "# Create figure for loss curves\n",
    "plt.figure(figsize=(7, 6), dpi=600)\n",
    "\n",
    "# Plot losses\n",
    "plt.plot(df[\"Epoch\"], df[\"Loss_all\"], color=\"red\", label=\"WQMG2EV BO-LSTM\")\n",
    "plt.plot(df[\"Epoch\"], df[\"Loss_quality\"], color=\"green\", label=\"WQ2EV BO-LSTM\")\n",
    "\n",
    "# Set labels and legend\n",
    "plt.xlabel(\"Iteration\")\n",
    "plt.ylabel(\"Loss (RMSE)\")\n",
    "plt.legend()\n",
    "\n",
    "# Adjust layout and save\n",
    "plt.tight_layout()\n",
    "plt.savefig(\"../plots/loss_curve.png\", dpi=600, bbox_inches=\"tight\")\n",
    "plt.close()\n",
    "# plt.show()"
   ]
  }
 ],
 "metadata": {
  "kernelspec": {
   "display_name": "Python 3 (ipykernel)",
   "language": "python",
   "name": "python3"
  },
  "language_info": {
   "codemirror_mode": {
    "name": "ipython",
    "version": 3
   },
   "file_extension": ".py",
   "mimetype": "text/x-python",
   "name": "python",
   "nbconvert_exporter": "python",
   "pygments_lexer": "ipython3",
   "version": "3.12.9"
  }
 },
 "nbformat": 4,
 "nbformat_minor": 5
}
