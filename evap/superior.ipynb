{
 "cells": [
  {
   "cell_type": "code",
   "execution_count": 1,
   "id": "e04590d0-2b91-44ae-97a1-fb9a50dd323b",
   "metadata": {},
   "outputs": [],
   "source": [
    "import numpy as pd\n",
    "import pandas as pd\n",
    "import matplotlib.pyplot as plt\n",
    "import seaborn as sns"
   ]
  },
  {
   "cell_type": "code",
   "execution_count": 2,
   "id": "fef22237-cb78-4ffb-b8d7-ed876c2f1896",
   "metadata": {},
   "outputs": [],
   "source": [
    "plt.rcParams.update({\n",
    "    'font.size': 16,\n",
    "    'axes.labelsize': 16,\n",
    "    'xtick.labelsize': 16,\n",
    "    'ytick.labelsize': 16,\n",
    "    'axes.linewidth': 1.2,\n",
    "    'xtick.major.width': 1.2,\n",
    "    'ytick.major.width': 1.2,\n",
    "    'savefig.format': 'png',\n",
    "    'savefig.bbox': 'tight',\n",
    "    'font.family': 'Times New Roman',\n",
    "    'text.usetex': False\n",
    "})"
   ]
  },
  {
   "cell_type": "code",
   "execution_count": 3,
   "id": "e5e0b4f7-2b14-4150-bf5d-9225435011dc",
   "metadata": {},
   "outputs": [
    {
     "data": {
      "text/html": [
       "<div>\n",
       "<style scoped>\n",
       "    .dataframe tbody tr th:only-of-type {\n",
       "        vertical-align: middle;\n",
       "    }\n",
       "\n",
       "    .dataframe tbody tr th {\n",
       "        vertical-align: top;\n",
       "    }\n",
       "\n",
       "    .dataframe thead th {\n",
       "        text-align: right;\n",
       "    }\n",
       "</style>\n",
       "<table border=\"1\" class=\"dataframe\">\n",
       "  <thead>\n",
       "    <tr style=\"text-align: right;\">\n",
       "      <th></th>\n",
       "      <th>Epoch</th>\n",
       "      <th>Loss_all</th>\n",
       "      <th>Loss_quality</th>\n",
       "    </tr>\n",
       "  </thead>\n",
       "  <tbody>\n",
       "    <tr>\n",
       "      <th>0</th>\n",
       "      <td>1</td>\n",
       "      <td>0.137179</td>\n",
       "      <td>0.184514</td>\n",
       "    </tr>\n",
       "    <tr>\n",
       "      <th>1</th>\n",
       "      <td>2</td>\n",
       "      <td>0.060803</td>\n",
       "      <td>0.062291</td>\n",
       "    </tr>\n",
       "    <tr>\n",
       "      <th>2</th>\n",
       "      <td>3</td>\n",
       "      <td>0.033317</td>\n",
       "      <td>0.051054</td>\n",
       "    </tr>\n",
       "    <tr>\n",
       "      <th>3</th>\n",
       "      <td>4</td>\n",
       "      <td>0.020256</td>\n",
       "      <td>0.039606</td>\n",
       "    </tr>\n",
       "    <tr>\n",
       "      <th>4</th>\n",
       "      <td>5</td>\n",
       "      <td>0.020261</td>\n",
       "      <td>0.032217</td>\n",
       "    </tr>\n",
       "  </tbody>\n",
       "</table>\n",
       "</div>"
      ],
      "text/plain": [
       "   Epoch  Loss_all  Loss_quality\n",
       "0      1  0.137179      0.184514\n",
       "1      2  0.060803      0.062291\n",
       "2      3  0.033317      0.051054\n",
       "3      4  0.020256      0.039606\n",
       "4      5  0.020261      0.032217"
      ]
     },
     "execution_count": 3,
     "metadata": {},
     "output_type": "execute_result"
    }
   ],
   "source": [
    "df = pd.read_csv(\"../models/bolstm/bolstm_loss_history.csv\")\n",
    "df.head()"
   ]
  },
  {
   "cell_type": "code",
   "execution_count": 4,
   "id": "c10de4dd-0aa8-4e8a-912b-40978c98771c",
   "metadata": {},
   "outputs": [],
   "source": [
    "plt.figure(figsize=(7, 6), dpi=600)\n",
    "\n",
    "plt.plot(df[\"Epoch\"], df[\"Loss_all\"], color=\"red\", label=\"WQMG2EV BO-LSTM\")\n",
    "plt.plot(df[\"Epoch\"], df[\"Loss_quality\"], color=\"green\", label=\"WQ2EV BO-LSTM\")\n",
    "\n",
    "plt.xlabel(\"Iteration\")\n",
    "plt.ylabel(\"Loss (RMSE)\")\n",
    "plt.legend()\n",
    "plt.tight_layout()\n",
    "\n",
    "plt.savefig(\"../plots/loss_curve.png\", dpi=600, bbox_inches=\"tight\")\n",
    "\n",
    "plt.close()\n",
    "# plt.show()"
   ]
  }
 ],
 "metadata": {
  "kernelspec": {
   "display_name": "Python 3 (ipykernel)",
   "language": "python",
   "name": "python3"
  },
  "language_info": {
   "codemirror_mode": {
    "name": "ipython",
    "version": 3
   },
   "file_extension": ".py",
   "mimetype": "text/x-python",
   "name": "python",
   "nbconvert_exporter": "python",
   "pygments_lexer": "ipython3",
   "version": "3.12.9"
  }
 },
 "nbformat": 4,
 "nbformat_minor": 5
}
