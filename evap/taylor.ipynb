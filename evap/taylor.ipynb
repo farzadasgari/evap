{
 "cells": [
  {
   "cell_type": "code",
   "execution_count": 1,
   "id": "d3d0251f-6a70-46d9-a355-fcfcd42fc1dd",
   "metadata": {},
   "outputs": [],
   "source": [
    "import numpy as np\n",
    "import pandas as pd\n",
    "import matplotlib.pyplot as plt\n",
    "import geocat.viz as gv"
   ]
  },
  {
   "cell_type": "code",
   "execution_count": 2,
   "id": "981cb420-5125-4c74-a39c-67ca155283f5",
   "metadata": {},
   "outputs": [],
   "source": [
    "plt.rcParams.update({\n",
    "    'font.size': 16,\n",
    "    'axes.labelsize': 16,\n",
    "    'xtick.labelsize': 16,\n",
    "    'ytick.labelsize': 16,\n",
    "    'axes.linewidth': 1.2,\n",
    "    'xtick.major.width': 1.2,\n",
    "    'ytick.major.width': 1.2,\n",
    "    'savefig.format': 'png',\n",
    "    'savefig.bbox': 'tight',\n",
    "    'font.family': 'Times New Roman',\n",
    "    'text.usetex': False\n",
    "})"
   ]
  },
  {
   "cell_type": "code",
   "execution_count": 3,
   "id": "f0de9abc-1c41-4200-92f1-2f05ab2ba485",
   "metadata": {},
   "outputs": [],
   "source": [
    "data = pd.read_csv(\"../dataset/evaporations.csv\")\n",
    "dates = pd.to_datetime(data['DATE'])\n",
    "y = data['Observed']\n",
    "x1 = data['WQ2EV']\n",
    "x2 = data['WQMG2EV']\n",
    "x3 = data['Penman']"
   ]
  },
  {
   "cell_type": "code",
   "execution_count": 4,
   "id": "21b9f376-e0aa-4a47-90e9-9d95de8a9a9d",
   "metadata": {},
   "outputs": [],
   "source": [
    "# Calculate standard deviation, correlation, and bias for each model\n",
    "def calculate_taylor_metrics(y_true, y_pred):\n",
    "    sdev = np.std(y_pred) / np.std(y_true)  # Normalized standard deviation\n",
    "    ccorr = np.corrcoef(y_true, y_pred)[0, 1]  # Correlation coefficient\n",
    "    bias = np.mean(y_pred - y_true) / np.mean(y_true) * 100  # Bias as a percentage\n",
    "    return sdev, ccorr, bias"
   ]
  },
  {
   "cell_type": "code",
   "execution_count": 5,
   "id": "9330fb6a-e5ce-45be-81cc-b95129f9d394",
   "metadata": {},
   "outputs": [],
   "source": [
    "# Get metrics for each model\n",
    "metrics_obs = calculate_taylor_metrics(y, y)  # Observations (reference)\n",
    "metrics_x1 = calculate_taylor_metrics(y, x1)  # WQ2EV BO-LSTM\n",
    "metrics_x2 = calculate_taylor_metrics(y, x2)  # WQMG2EV BO-LSTM\n",
    "metrics_x3 = calculate_taylor_metrics(y, x3)  # Penman-FAO"
   ]
  },
  {
   "cell_type": "code",
   "execution_count": 6,
   "id": "7b965b17-1299-4df0-81bd-f84e5e6ccd9a",
   "metadata": {},
   "outputs": [],
   "source": [
    "# Unpack metrics\n",
    "sdev_obs, ccorr_obs, bias_obs = metrics_obs\n",
    "sdev_x1, ccorr_x1, bias_x1 = metrics_x1\n",
    "sdev_x2, ccorr_x2, bias_x2 = metrics_x2\n",
    "sdev_x3, ccorr_x3, bias_x3 = metrics_x3"
   ]
  },
  {
   "cell_type": "code",
   "execution_count": 7,
   "id": "2d90acd4-5a3b-48cc-b131-71ffc1315966",
   "metadata": {},
   "outputs": [
    {
     "name": "stdout",
     "output_type": "stream",
     "text": [
      "Metrics for Observations:\n",
      "Normalized Standard Deviation: 1.0\n",
      "Correlation Coefficient: 1.0\n",
      "Bias: 0.0%\n",
      "\n",
      "Metrics for WQ2EV BO-LSTM:\n",
      "Normalized Standard Deviation: 0.97\n",
      "Correlation Coefficient: 0.95\n",
      "Bias: 1.38%\n",
      "\n",
      "Metrics for WQMG2EV BO-LSTM:\n",
      "Normalized Standard Deviation: 0.94\n",
      "Correlation Coefficient: 0.99\n",
      "Bias: 0.18%\n",
      "\n",
      "Metrics for PENMAN Model:\n",
      "Normalized Standard Deviation: 0.83\n",
      "Correlation Coefficient: 0.96\n",
      "Bias: -25.58%\n"
     ]
    }
   ],
   "source": [
    "print(\"Metrics for Observations:\")\n",
    "print(f\"Normalized Standard Deviation: {sdev_obs}\")\n",
    "print(f\"Correlation Coefficient: {ccorr_obs}\")\n",
    "print(f\"Bias: {bias_obs}%\\n\")\n",
    "\n",
    "print(\"Metrics for WQ2EV BO-LSTM:\")\n",
    "print(f\"Normalized Standard Deviation: {sdev_x1:.2f}\")\n",
    "print(f\"Correlation Coefficient: {ccorr_x1:.2f}\")\n",
    "print(f\"Bias: {bias_x1:.2f}%\\n\")\n",
    "\n",
    "print(\"Metrics for WQMG2EV BO-LSTM:\")\n",
    "print(f\"Normalized Standard Deviation: {sdev_x2:.2f}\")\n",
    "print(f\"Correlation Coefficient: {ccorr_x2:.2f}\")\n",
    "print(f\"Bias: {bias_x2:.2f}%\\n\")\n",
    "\n",
    "print(\"Metrics for PENMAN Model:\")\n",
    "print(f\"Normalized Standard Deviation: {sdev_x3:.2f}\")\n",
    "print(f\"Correlation Coefficient: {ccorr_x3:.2f}\")\n",
    "print(f\"Bias: {bias_x3:.2f}%\")"
   ]
  },
  {
   "cell_type": "code",
   "execution_count": 8,
   "id": "a3e32b2e-2e39-445b-8fe2-6ce9a511110d",
   "metadata": {},
   "outputs": [],
   "source": [
    "# Create figure and TaylorDiagram instance\n",
    "fig = plt.figure(figsize=(11, 10), dpi=600)\n",
    "taylor = gv.TaylorDiagram(fig=fig, label='Reference')\n",
    "\n",
    "# Draw diagonal dashed lines from origin to correlation values with a distinct color\n",
    "taylor.add_corr_grid(np.concatenate((np.arange(0, 1, 0.1), np.array([0.95, 0.99]))), \n",
    "                     linewidth=1.5, \n",
    "                     linestyle='--', \n",
    "                     colors='gray'\n",
    "                     )\n",
    "\n",
    "# Add observation points with triangle marker\n",
    "taylor.add_model_set([sdev_obs],\n",
    "                     [ccorr_obs],\n",
    "                     marker='^',\n",
    "                     color='black',\n",
    "                     label='Observations',\n",
    "                     s=250,\n",
    "                     zorder=10,\n",
    "                     fontsize=0)\n",
    "\n",
    "# Add models with distinct markers and colors without automatic labels\n",
    "taylor.add_model_set([sdev_x1],\n",
    "                     [ccorr_x1],\n",
    "                     bias_array=[bias_x1],\n",
    "                     color='lime',\n",
    "                     label='WQ2EV BO-LSTM',\n",
    "                     s=250,\n",
    "                     zorder=10,\n",
    "                     marker='o',\n",
    "                     edgecolors='black',\n",
    "                     linewidths=2,\n",
    "                     fontsize=0)\n",
    "\n",
    "taylor.add_model_set([sdev_x2],\n",
    "                     [ccorr_x2],\n",
    "                     bias_array=[bias_x2],\n",
    "                     color='red',\n",
    "                     label='WQMG2EV BO-LSTM',\n",
    "                     s=250,\n",
    "                     zorder=10,\n",
    "                     marker='o',\n",
    "                     edgecolors='black',\n",
    "                     linewidths=2,\n",
    "                     fontsize=0)\n",
    "\n",
    "taylor.add_model_set([sdev_x3],\n",
    "                     [ccorr_x3],\n",
    "                     bias_array=[bias_x3],\n",
    "                     color='orange',\n",
    "                     label='Penman-FAO',\n",
    "                     s=250,\n",
    "                     zorder=10,\n",
    "                     marker='o',\n",
    "                     edgecolors='black',\n",
    "                     linewidths=2,\n",
    "                     fontsize=0)\n",
    "\n",
    "# Adjust tick parameters\n",
    "plt.tick_params(axis='both', which='major', labelsize=20)\n",
    "plt.tick_params(axis='both', which='minor', labelsize=20)\n",
    "\n",
    "# Add figure legend\n",
    "taylor.add_legend(xloc=1.2, yloc=1.1, loc='upper right', fontsize=18)\n",
    "\n",
    "# Add constant centered RMS difference contours with adjusted style\n",
    "taylor.add_contours(levels=np.arange(0, 1.1, 0.1),\n",
    "                    colors='gray',\n",
    "                    linewidths=1.0,\n",
    "                    linestyles='solid',\n",
    "                    zorder=5)\n",
    "\n",
    "plt.savefig(f\"./../plots/taylor.png\", dpi=600, bbox_inches='tight')\n",
    "\n",
    "plt.close()\n",
    "# plt.show()"
   ]
  }
 ],
 "metadata": {
  "kernelspec": {
   "display_name": "Python 3 (ipykernel)",
   "language": "python",
   "name": "python3"
  },
  "language_info": {
   "codemirror_mode": {
    "name": "ipython",
    "version": 3
   },
   "file_extension": ".py",
   "mimetype": "text/x-python",
   "name": "python",
   "nbconvert_exporter": "python",
   "pygments_lexer": "ipython3",
   "version": "3.12.9"
  }
 },
 "nbformat": 4,
 "nbformat_minor": 5
}
