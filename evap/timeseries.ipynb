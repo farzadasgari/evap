{
 "cells": [
  {
   "cell_type": "markdown",
   "id": "63c68433-83b9-476c-b802-e8f05a37078d",
   "metadata": {},
   "source": [
    "# Time Series Visualization\n",
    "This notebook plots time series for selected variables."
   ]
  },
  {
   "cell_type": "code",
   "execution_count": 1,
   "id": "1c96044d-48f9-457f-956c-8f3516c5bacd",
   "metadata": {},
   "outputs": [],
   "source": [
    "# Import libraries for data handling and plotting\n",
    "import pandas as pd\n",
    "import matplotlib.pyplot as plt"
   ]
  },
  {
   "cell_type": "markdown",
   "id": "c2bfb36c-c092-4c0a-9922-9a0fe367b389",
   "metadata": {},
   "source": [
    "## Plot Configuration\n",
    "Set Matplotlib parameters for styling."
   ]
  },
  {
   "cell_type": "code",
   "execution_count": 2,
   "id": "64d6468b-13f9-4f4c-b65f-e4589af0bf62",
   "metadata": {},
   "outputs": [],
   "source": [
    "# Configure Matplotlib parameters for consistent plot styling\n",
    "plt.rcParams.update({\n",
    "    'font.size': 16,              # Set default font size\n",
    "    'axes.labelsize': 16,         # Set axis label font size\n",
    "    'xtick.labelsize': 16,        # Set x-tick label font size\n",
    "    'ytick.labelsize': 16,        # Set y-tick label font size\n",
    "    'axes.linewidth': 1.2,        # Set axis line width\n",
    "    'xtick.major.width': 1.2,     # Set x-tick line width\n",
    "    'ytick.major.width': 1.2,     # Set y-tick line width\n",
    "    'savefig.format': 'png',      # Save figures in PNG format\n",
    "    'savefig.bbox': 'tight',      # Use tight layout for saved figures\n",
    "    'font.family': 'Times New Roman',  # Set font family\n",
    "    'text.usetex': False          # Disable LaTeX rendering for text\n",
    "})"
   ]
  },
  {
   "cell_type": "markdown",
   "id": "ceec9ee6-3a28-44f0-9efe-b9f3e8eb21ee",
   "metadata": {},
   "source": [
    "## Data Loading and Plotting\n",
    "Load data and create time series plots for each variable."
   ]
  },
  {
   "cell_type": "code",
   "execution_count": 3,
   "id": "512d795d-d78a-4fd3-9084-43cd1fb80a22",
   "metadata": {},
   "outputs": [],
   "source": [
    "# Load the dataset\n",
    "data = pd.read_csv('../dataset/data.csv')\n",
    "\n",
    "# Convert 'Dates' to datetime format\n",
    "data['DATE'] = pd.to_datetime(data['DATE'], format='%m/%d/%Y')\n",
    "\n",
    "# Variables to plot and their corresponding y-axis labels\n",
    "variables = {\n",
    "    'EV': 'EV (mm/day)',\n",
    "    'T': 'T (°C)',\n",
    "    'CHL': 'CHL (mg/$m^{3}$)',\n",
    "    'CDOM': 'CDOM ($m^{-1}$)',\n",
    "    'TSM': 'TSM (g/$m^{3}$)',\n",
    "}\n",
    "\n",
    "# Set up the subplots (one row per variable)\n",
    "fig, axes = plt.subplots(len(variables), 1, figsize=(15, 10), sharex=True, dpi=600)\n",
    "\n",
    "# Colors for each parameter with higher contrast\n",
    "colors = ['#1f77b4', '#ff7f0e', '#2ca02c', '#d62728', '#9467bd']\n",
    "\n",
    "# Plot each variable in its own subplot\n",
    "for i, (var, ylabel) in enumerate(variables.items()):\n",
    "    axes[i].plot(data['DATE'], data[var], linestyle='-', lw=3.5, color=colors[i], label=ylabel)\n",
    "    axes[i].scatter(data['DATE'], data[var], s=50, c='black', edgecolor='white', zorder=5)  # Larger markers\n",
    "    if ylabel == 'CHL (mg/$m^{3}$)':\n",
    "        axes[i].set_ylabel(ylabel, fontsize=18, labelpad=13)\n",
    "    elif ylabel == 'T (°C)':\n",
    "        axes[i].set_ylabel(ylabel, fontsize=18, labelpad=10)\n",
    "    else:\n",
    "        axes[i].set_ylabel(ylabel, fontsize=18)\n",
    "    axes[i].tick_params(axis='both', labelsize=16, width=2, direction='in')  # Bold ticks, inward\n",
    "    axes[i].grid(True, axis=\"x\", linestyle='--', linewidth=1)  # Lighter grid for better data focus\n",
    "\n",
    "# Set the x-axis label for the bottom plot\n",
    "axes[-1].set_xlabel('Date', fontsize=18)\n",
    "\n",
    "# Adjust layout to prevent overlap\n",
    "fig.tight_layout(rect=[0, 0, 1, 0.96])\n",
    "\n",
    "plt.savefig(f\"../plots/timeseries.png\", dpi=600, bbox_inches='tight')\n",
    "plt.close()\n",
    "# plt.show()"
   ]
  }
 ],
 "metadata": {
  "kernelspec": {
   "display_name": "Python 3 (ipykernel)",
   "language": "python",
   "name": "python3"
  },
  "language_info": {
   "codemirror_mode": {
    "name": "ipython",
    "version": 3
   },
   "file_extension": ".py",
   "mimetype": "text/x-python",
   "name": "python",
   "nbconvert_exporter": "python",
   "pygments_lexer": "ipython3",
   "version": "3.12.9"
  }
 },
 "nbformat": 4,
 "nbformat_minor": 5
}
