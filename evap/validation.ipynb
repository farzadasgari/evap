{
 "cells": [
  {
   "cell_type": "code",
   "execution_count": 1,
   "id": "0a90d7a7-2224-4ecc-9075-887179e0cfc5",
   "metadata": {},
   "outputs": [],
   "source": [
    "# Import required libraries for data manipulation, visualization, and numerical operations\n",
    "import numpy as np\n",
    "import pandas as pd\n",
    "import matplotlib.pyplot as plt\n",
    "import matplotlib.dates as mdates\n",
    "import seaborn as sns"
   ]
  },
  {
   "cell_type": "markdown",
   "id": "81a7d92c-d180-431e-a5ce-517ed28d1284",
   "metadata": {},
   "source": [
    "## Plot Configuration\n",
    "The following cell configures Matplotlib's plotting parameters to ensure consistent and professional-looking visualizations."
   ]
  },
  {
   "cell_type": "code",
   "execution_count": 2,
   "id": "ebe473bf-9c62-4b52-9e3f-eae08dc76307",
   "metadata": {},
   "outputs": [],
   "source": [
    "# Configure Matplotlib parameters for consistent plot styling\n",
    "plt.rcParams.update({\n",
    "    'font.size': 16,              # Set default font size\n",
    "    'axes.labelsize': 16,         # Set axis label font size\n",
    "    'xtick.labelsize': 16,        # Set x-tick label font size\n",
    "    'ytick.labelsize': 16,        # Set y-tick label font size\n",
    "    'axes.linewidth': 1.2,        # Set axis line width\n",
    "    'xtick.major.width': 1.2,     # Set x-tick line width\n",
    "    'ytick.major.width': 1.2,     # Set y-tick line width\n",
    "    'savefig.format': 'png',      # Save figures in PNG format\n",
    "    'savefig.bbox': 'tight',      # Use tight layout for saved figures\n",
    "    'font.family': 'Times New Roman',  # Set font family\n",
    "    'text.usetex': False          # Disable LaTeX rendering for text\n",
    "})"
   ]
  },
  {
   "cell_type": "markdown",
   "id": "ce6b4bb0-5b63-4319-8a74-fea068ad0093",
   "metadata": {},
   "source": [
    "## Data Loading\n",
    "Load the dataset from a CSV file and display the first few rows to inspect its structure."
   ]
  },
  {
   "cell_type": "code",
   "execution_count": 3,
   "id": "089a5cf6-9818-4d6e-b573-c5fb8ef2ec0e",
   "metadata": {},
   "outputs": [
    {
     "data": {
      "text/html": [
       "<div>\n",
       "<style scoped>\n",
       "    .dataframe tbody tr th:only-of-type {\n",
       "        vertical-align: middle;\n",
       "    }\n",
       "\n",
       "    .dataframe tbody tr th {\n",
       "        vertical-align: top;\n",
       "    }\n",
       "\n",
       "    .dataframe thead th {\n",
       "        text-align: right;\n",
       "    }\n",
       "</style>\n",
       "<table border=\"1\" class=\"dataframe\">\n",
       "  <thead>\n",
       "    <tr style=\"text-align: right;\">\n",
       "      <th></th>\n",
       "      <th>DATE</th>\n",
       "      <th>T</th>\n",
       "      <th>SP</th>\n",
       "      <th>SR</th>\n",
       "      <th>RH</th>\n",
       "      <th>WU</th>\n",
       "      <th>WV</th>\n",
       "      <th>TSM</th>\n",
       "      <th>CHL</th>\n",
       "      <th>CDOM</th>\n",
       "      <th>CDEC</th>\n",
       "      <th>EV</th>\n",
       "    </tr>\n",
       "  </thead>\n",
       "  <tbody>\n",
       "    <tr>\n",
       "      <th>0</th>\n",
       "      <td>2016-06-24</td>\n",
       "      <td>26.248143</td>\n",
       "      <td>96821.02653</td>\n",
       "      <td>31562901.28</td>\n",
       "      <td>40.56</td>\n",
       "      <td>0.194397</td>\n",
       "      <td>0.860564</td>\n",
       "      <td>-0.710855</td>\n",
       "      <td>-1.107892</td>\n",
       "      <td>-1.451557</td>\n",
       "      <td>6.452353</td>\n",
       "      <td>8.420540</td>\n",
       "    </tr>\n",
       "    <tr>\n",
       "      <th>1</th>\n",
       "      <td>2016-07-14</td>\n",
       "      <td>27.984237</td>\n",
       "      <td>96651.16619</td>\n",
       "      <td>31276649.52</td>\n",
       "      <td>22.75</td>\n",
       "      <td>-0.011315</td>\n",
       "      <td>0.319810</td>\n",
       "      <td>-0.506057</td>\n",
       "      <td>-0.952389</td>\n",
       "      <td>-1.046996</td>\n",
       "      <td>8.165377</td>\n",
       "      <td>8.070396</td>\n",
       "    </tr>\n",
       "    <tr>\n",
       "      <th>2</th>\n",
       "      <td>2016-08-03</td>\n",
       "      <td>27.073733</td>\n",
       "      <td>96595.32039</td>\n",
       "      <td>29337726.72</td>\n",
       "      <td>15.12</td>\n",
       "      <td>-0.050064</td>\n",
       "      <td>0.459498</td>\n",
       "      <td>0.168353</td>\n",
       "      <td>-0.269065</td>\n",
       "      <td>0.236308</td>\n",
       "      <td>8.373570</td>\n",
       "      <td>7.883678</td>\n",
       "    </tr>\n",
       "    <tr>\n",
       "      <th>3</th>\n",
       "      <td>2016-08-23</td>\n",
       "      <td>24.419640</td>\n",
       "      <td>96680.79519</td>\n",
       "      <td>25496985.60</td>\n",
       "      <td>23.69</td>\n",
       "      <td>-0.560787</td>\n",
       "      <td>1.642996</td>\n",
       "      <td>0.755064</td>\n",
       "      <td>0.640315</td>\n",
       "      <td>1.284765</td>\n",
       "      <td>5.978892</td>\n",
       "      <td>6.562248</td>\n",
       "    </tr>\n",
       "    <tr>\n",
       "      <th>4</th>\n",
       "      <td>2016-09-12</td>\n",
       "      <td>20.526815</td>\n",
       "      <td>96353.97802</td>\n",
       "      <td>22353904.56</td>\n",
       "      <td>42.12</td>\n",
       "      <td>-0.931960</td>\n",
       "      <td>2.114761</td>\n",
       "      <td>0.931730</td>\n",
       "      <td>0.836024</td>\n",
       "      <td>1.706997</td>\n",
       "      <td>6.797793</td>\n",
       "      <td>5.121693</td>\n",
       "    </tr>\n",
       "  </tbody>\n",
       "</table>\n",
       "</div>"
      ],
      "text/plain": [
       "        DATE          T           SP           SR     RH        WU        WV  \\\n",
       "0 2016-06-24  26.248143  96821.02653  31562901.28  40.56  0.194397  0.860564   \n",
       "1 2016-07-14  27.984237  96651.16619  31276649.52  22.75 -0.011315  0.319810   \n",
       "2 2016-08-03  27.073733  96595.32039  29337726.72  15.12 -0.050064  0.459498   \n",
       "3 2016-08-23  24.419640  96680.79519  25496985.60  23.69 -0.560787  1.642996   \n",
       "4 2016-09-12  20.526815  96353.97802  22353904.56  42.12 -0.931960  2.114761   \n",
       "\n",
       "        TSM       CHL      CDOM      CDEC        EV  \n",
       "0 -0.710855 -1.107892 -1.451557  6.452353  8.420540  \n",
       "1 -0.506057 -0.952389 -1.046996  8.165377  8.070396  \n",
       "2  0.168353 -0.269065  0.236308  8.373570  7.883678  \n",
       "3  0.755064  0.640315  1.284765  5.978892  6.562248  \n",
       "4  0.931730  0.836024  1.706997  6.797793  5.121693  "
      ]
     },
     "execution_count": 3,
     "metadata": {},
     "output_type": "execute_result"
    }
   ],
   "source": [
    "# Load the dataset from a CSV file\n",
    "df = pd.read_csv('../dataset/data.csv')\n",
    "\n",
    "# Convert 'Dates' to datetime format\n",
    "df['DATE'] = pd.to_datetime(df['DATE'], format='%m/%d/%Y')\n",
    "\n",
    "# Display the first 5 rows of the dataset\n",
    "df.head()"
   ]
  },
  {
   "cell_type": "markdown",
   "id": "03fc9441-4f27-4c83-9695-9565cd0c39ea",
   "metadata": {},
   "source": [
    "## Metrics Definition\n",
    "Define evaluation metrics for model performance."
   ]
  },
  {
   "cell_type": "code",
   "execution_count": 4,
   "id": "767030f6-96bd-43ca-b550-526c35e2afc8",
   "metadata": {},
   "outputs": [],
   "source": [
    "# Import metrics for evaluation\n",
    "from sklearn.metrics import r2_score, root_mean_squared_error\n",
    "\n",
    "# Define Mean Bias Error (MBE) function\n",
    "def mbe(y_true, y_pred):\n",
    "    return np.mean(y_pred - y_true)"
   ]
  },
  {
   "cell_type": "markdown",
   "id": "c13dd33d-86ed-4c12-82a1-8989e9c4b55f",
   "metadata": {},
   "source": [
    "## Data Extraction\n",
    "Extract CDEC and ERA5 evapotranspiration (EV) data for analysis."
   ]
  },
  {
   "cell_type": "code",
   "execution_count": 5,
   "id": "1049770a-0f71-42e0-8670-abe9cdb820d0",
   "metadata": {},
   "outputs": [],
   "source": [
    "# Extract CDEC and ERA5 evapotranspiration data\n",
    "cdec = df[\"CDEC\"]\n",
    "era = df[\"EV\"]"
   ]
  },
  {
   "cell_type": "markdown",
   "id": "e406e7d2-9430-4548-99e3-acaefb5d47d4",
   "metadata": {},
   "source": [
    "## Scatter Plot with KDE\n",
    "Create a scatter plot with kernel density estimation (KDE) to compare CDEC and ERA5 evapotranspiration values, including performance metrics."
   ]
  },
  {
   "cell_type": "code",
   "execution_count": 6,
   "id": "f7033e77-12eb-42c1-a3b0-dad18c6aea60",
   "metadata": {},
   "outputs": [],
   "source": [
    "# Create scatter plot with KDE\n",
    "plt.figure(figsize=(7, 6), dpi=600)\n",
    "sns.kdeplot(x=cdec, y=era, levels=10, cmap='CMRmap_r', alpha=0.6, fill=True)  # Plot KDE\n",
    "plt.scatter(cdec, era, color='deepskyblue', s=60, alpha=0.8, edgecolor='black')  # Scatter points\n",
    "plt.plot([-1, 12], [-1, 12], 'r--')  # Add 1:1 line\n",
    "plt.xlabel(\"EV$_{CDEC}$ (mm/day)\")  # X-axis label\n",
    "plt.ylabel(\"EV$_{ERA5}$ (mm/day)\")  # Y-axis label\n",
    "plt.ylim(-1.00, 12)  # Set y-axis limits\n",
    "plt.yticks(np.arange(-0.00, 12, 1))  # Set y-axis ticks\n",
    "plt.xlim(-1.00, 12)  # Set x-axis limits\n",
    "plt.xticks(np.arange(-0.00, 12, 1))  # Set x-axis ticks\n",
    "\n",
    "# Add performance metrics text\n",
    "plt.text(\n",
    "    7, 0.5,\n",
    "    f\"RMSE: {root_mean_squared_error(cdec, era):.2f} (mm/day)\\nR²: {r2_score(cdec, era):.2f}\\nBias: {mbe(cdec, era):.2f} (mm/day)\",\n",
    "    fontsize=16, color='black')\n",
    "\n",
    "# Save plot as PNG\n",
    "plt.savefig(f\"../plots/validation-scatter.png\", dpi=600, bbox_inches='tight')\n",
    "plt.close()  # Close plot to free memory\n",
    "# plt.show()"
   ]
  },
  {
   "cell_type": "markdown",
   "id": "7f01bda6-faec-4581-ab72-c558a013f56b",
   "metadata": {},
   "source": [
    "## Time Series Plot\n",
    "Generate a time series plot to visualize CDEC and ERA5 evapotranspiration over time, with yearly x-axis ticks."
   ]
  },
  {
   "cell_type": "code",
   "execution_count": 7,
   "id": "7da0db89-5970-4aef-95f0-009cf74739bb",
   "metadata": {},
   "outputs": [],
   "source": [
    "# Create time series plot\n",
    "plt.figure(figsize=(7, 6), dpi=600)\n",
    "plt.plot(df[\"DATE\"], cdec, color=\"crimson\", label=\"CDEC\", lw=2.5)  # Plot CDEC data\n",
    "plt.plot(df[\"DATE\"], era, color=\"k\", label=\"ERA5\", lw=2.5)  # Plot ERA5 data\n",
    "plt.xlabel(\"Date\")  # X-axis label\n",
    "plt.ylabel(\"EV (mm/day)\")  # Y-axis label\n",
    "plt.legend(loc=\"upper left\")  # Add legend\n",
    "plt.ylim(-0.00, 14)  # Set y-axis limits\n",
    "\n",
    "# Set x-axis to show only years\n",
    "plt.gca().xaxis.set_major_locator(mdates.YearLocator())  # Set ticks at year start\n",
    "plt.gca().xaxis.set_major_formatter(mdates.DateFormatter('%Y'))  # Format ticks as years\n",
    "\n",
    "# Save plot as PNG\n",
    "plt.savefig(f\"../plots/validation-signal.png\", dpi=600, bbox_inches='tight')\n",
    "plt.close()  # Close plot to free memory\n",
    "# plt.show()"
   ]
  }
 ],
 "metadata": {
  "kernelspec": {
   "display_name": "Python 3 (ipykernel)",
   "language": "python",
   "name": "python3"
  },
  "language_info": {
   "codemirror_mode": {
    "name": "ipython",
    "version": 3
   },
   "file_extension": ".py",
   "mimetype": "text/x-python",
   "name": "python",
   "nbconvert_exporter": "python",
   "pygments_lexer": "ipython3",
   "version": "3.12.9"
  }
 },
 "nbformat": 4,
 "nbformat_minor": 5
}
