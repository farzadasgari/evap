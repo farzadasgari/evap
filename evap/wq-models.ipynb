{
 "cells": [
  {
   "cell_type": "markdown",
   "id": "add6d77b-b158-4344-b7b2-76bfef512ee3",
   "metadata": {},
   "source": [
    "# WQ Model Evaluation\n",
    "This notebook evaluates WQ models using metrics and plots."
   ]
  },
  {
   "cell_type": "code",
   "execution_count": 1,
   "id": "6e352cb3-026c-4090-8cb9-e3bcf7c35e18",
   "metadata": {},
   "outputs": [],
   "source": [
    "# Import libraries for metrics and visualization\n",
    "import numpy as np\n",
    "import pandas as pd\n",
    "from sklearn.metrics import r2_score, mean_absolute_error, mean_squared_error\n",
    "import matplotlib.pyplot as plt\n",
    "import seaborn as sns"
   ]
  },
  {
   "cell_type": "markdown",
   "id": "e75d0bfb-e694-436f-b28c-778ee48c0523",
   "metadata": {},
   "source": [
    "## Plot Configuration\n",
    "Configure Matplotlib parameters."
   ]
  },
  {
   "cell_type": "code",
   "execution_count": 2,
   "id": "9e4ed01f-2f1c-484e-9335-ea5cd603ff95",
   "metadata": {},
   "outputs": [],
   "source": [
    "# Configure Matplotlib parameters for consistent plot styling\n",
    "plt.rcParams.update({\n",
    "    'font.size': 16,              # Set default font size\n",
    "    'axes.labelsize': 16,         # Set axis label font size\n",
    "    'xtick.labelsize': 16,        # Set x-tick label font size\n",
    "    'ytick.labelsize': 16,        # Set y-tick label font size\n",
    "    'axes.linewidth': 1.2,        # Set axis line width\n",
    "    'xtick.major.width': 1.2,     # Set x-tick line width\n",
    "    'ytick.major.width': 1.2,     # Set y-tick line width\n",
    "    'savefig.format': 'png',      # Save figures in PNG format\n",
    "    'savefig.bbox': 'tight',      # Use tight layout for saved figures\n",
    "    'font.family': 'Times New Roman',  # Set font family\n",
    "    'text.usetex': False          # Disable LaTeX rendering for text\n",
    "})"
   ]
  },
  {
   "cell_type": "markdown",
   "id": "e1e8badd-c7e5-43f6-a50d-c337bba63731",
   "metadata": {},
   "source": [
    "## Load Model Predictions\n",
    "Load prediction data for models."
   ]
  },
  {
   "cell_type": "code",
   "execution_count": 3,
   "id": "afbfc2e0-089d-4413-bc76-f93ab2de359c",
   "metadata": {},
   "outputs": [
    {
     "data": {
      "text/html": [
       "<div>\n",
       "<style scoped>\n",
       "    .dataframe tbody tr th:only-of-type {\n",
       "        vertical-align: middle;\n",
       "    }\n",
       "\n",
       "    .dataframe tbody tr th {\n",
       "        vertical-align: top;\n",
       "    }\n",
       "\n",
       "    .dataframe thead th {\n",
       "        text-align: right;\n",
       "    }\n",
       "</style>\n",
       "<table border=\"1\" class=\"dataframe\">\n",
       "  <thead>\n",
       "    <tr style=\"text-align: right;\">\n",
       "      <th></th>\n",
       "      <th>DATE</th>\n",
       "      <th>EV</th>\n",
       "      <th>WQEV</th>\n",
       "      <th>WQMGEV</th>\n",
       "    </tr>\n",
       "  </thead>\n",
       "  <tbody>\n",
       "    <tr>\n",
       "      <th>0</th>\n",
       "      <td>8/23/2016</td>\n",
       "      <td>6.562248</td>\n",
       "      <td>7.432892</td>\n",
       "      <td>6.745247</td>\n",
       "    </tr>\n",
       "    <tr>\n",
       "      <th>1</th>\n",
       "      <td>9/12/2016</td>\n",
       "      <td>5.121693</td>\n",
       "      <td>6.663954</td>\n",
       "      <td>5.676876</td>\n",
       "    </tr>\n",
       "    <tr>\n",
       "      <th>2</th>\n",
       "      <td>12/1/2016</td>\n",
       "      <td>1.333822</td>\n",
       "      <td>5.461903</td>\n",
       "      <td>5.029943</td>\n",
       "    </tr>\n",
       "    <tr>\n",
       "      <th>3</th>\n",
       "      <td>12/21/2016</td>\n",
       "      <td>1.366752</td>\n",
       "      <td>1.364518</td>\n",
       "      <td>1.162341</td>\n",
       "    </tr>\n",
       "    <tr>\n",
       "      <th>4</th>\n",
       "      <td>12/31/2016</td>\n",
       "      <td>1.140757</td>\n",
       "      <td>1.666799</td>\n",
       "      <td>1.498404</td>\n",
       "    </tr>\n",
       "  </tbody>\n",
       "</table>\n",
       "</div>"
      ],
      "text/plain": [
       "         DATE        EV      WQEV    WQMGEV\n",
       "0   8/23/2016  6.562248  7.432892  6.745247\n",
       "1   9/12/2016  5.121693  6.663954  5.676876\n",
       "2   12/1/2016  1.333822  5.461903  5.029943\n",
       "3  12/21/2016  1.366752  1.364518  1.162341\n",
       "4  12/31/2016  1.140757  1.666799  1.498404"
      ]
     },
     "execution_count": 3,
     "metadata": {},
     "output_type": "execute_result"
    }
   ],
   "source": [
    "# Load LSTM predictions\n",
    "lstm = pd.read_csv(\"../models/lstm/lstm_predictions.csv\")\n",
    "lstm.head()"
   ]
  },
  {
   "cell_type": "code",
   "execution_count": 4,
   "id": "817d2198-aefc-4b23-9008-816e5e6a164b",
   "metadata": {},
   "outputs": [
    {
     "data": {
      "text/html": [
       "<div>\n",
       "<style scoped>\n",
       "    .dataframe tbody tr th:only-of-type {\n",
       "        vertical-align: middle;\n",
       "    }\n",
       "\n",
       "    .dataframe tbody tr th {\n",
       "        vertical-align: top;\n",
       "    }\n",
       "\n",
       "    .dataframe thead th {\n",
       "        text-align: right;\n",
       "    }\n",
       "</style>\n",
       "<table border=\"1\" class=\"dataframe\">\n",
       "  <thead>\n",
       "    <tr style=\"text-align: right;\">\n",
       "      <th></th>\n",
       "      <th>DATE</th>\n",
       "      <th>EV</th>\n",
       "      <th>WQEV</th>\n",
       "      <th>WQMGEV</th>\n",
       "    </tr>\n",
       "  </thead>\n",
       "  <tbody>\n",
       "    <tr>\n",
       "      <th>0</th>\n",
       "      <td>8/23/2016</td>\n",
       "      <td>6.562248</td>\n",
       "      <td>7.258184</td>\n",
       "      <td>6.664568</td>\n",
       "    </tr>\n",
       "    <tr>\n",
       "      <th>1</th>\n",
       "      <td>9/12/2016</td>\n",
       "      <td>5.121693</td>\n",
       "      <td>5.655594</td>\n",
       "      <td>4.298963</td>\n",
       "    </tr>\n",
       "    <tr>\n",
       "      <th>2</th>\n",
       "      <td>12/1/2016</td>\n",
       "      <td>1.333822</td>\n",
       "      <td>4.071841</td>\n",
       "      <td>1.929978</td>\n",
       "    </tr>\n",
       "    <tr>\n",
       "      <th>3</th>\n",
       "      <td>12/21/2016</td>\n",
       "      <td>1.366752</td>\n",
       "      <td>0.763052</td>\n",
       "      <td>1.170905</td>\n",
       "    </tr>\n",
       "    <tr>\n",
       "      <th>4</th>\n",
       "      <td>12/31/2016</td>\n",
       "      <td>1.140757</td>\n",
       "      <td>1.328744</td>\n",
       "      <td>1.263597</td>\n",
       "    </tr>\n",
       "  </tbody>\n",
       "</table>\n",
       "</div>"
      ],
      "text/plain": [
       "         DATE        EV      WQEV    WQMGEV\n",
       "0   8/23/2016  6.562248  7.258184  6.664568\n",
       "1   9/12/2016  5.121693  5.655594  4.298963\n",
       "2   12/1/2016  1.333822  4.071841  1.929978\n",
       "3  12/21/2016  1.366752  0.763052  1.170905\n",
       "4  12/31/2016  1.140757  1.328744  1.263597"
      ]
     },
     "execution_count": 4,
     "metadata": {},
     "output_type": "execute_result"
    }
   ],
   "source": [
    "# Load BO-LSTM predictions\n",
    "bolstm = pd.read_csv(\"../models/bolstm/bolstm_predictions.csv\")\n",
    "bolstm.head()"
   ]
  },
  {
   "cell_type": "code",
   "execution_count": 5,
   "id": "a7f00b60-cdd4-4928-99bc-c2fb6fa58fee",
   "metadata": {},
   "outputs": [
    {
     "data": {
      "text/html": [
       "<div>\n",
       "<style scoped>\n",
       "    .dataframe tbody tr th:only-of-type {\n",
       "        vertical-align: middle;\n",
       "    }\n",
       "\n",
       "    .dataframe tbody tr th {\n",
       "        vertical-align: top;\n",
       "    }\n",
       "\n",
       "    .dataframe thead th {\n",
       "        text-align: right;\n",
       "    }\n",
       "</style>\n",
       "<table border=\"1\" class=\"dataframe\">\n",
       "  <thead>\n",
       "    <tr style=\"text-align: right;\">\n",
       "      <th></th>\n",
       "      <th>DATE</th>\n",
       "      <th>EV</th>\n",
       "      <th>WQEV</th>\n",
       "      <th>WQMGEV</th>\n",
       "    </tr>\n",
       "  </thead>\n",
       "  <tbody>\n",
       "    <tr>\n",
       "      <th>0</th>\n",
       "      <td>8/23/2016</td>\n",
       "      <td>6.562248</td>\n",
       "      <td>7.484390</td>\n",
       "      <td>6.846831</td>\n",
       "    </tr>\n",
       "    <tr>\n",
       "      <th>1</th>\n",
       "      <td>9/12/2016</td>\n",
       "      <td>5.121693</td>\n",
       "      <td>6.510322</td>\n",
       "      <td>5.786075</td>\n",
       "    </tr>\n",
       "    <tr>\n",
       "      <th>2</th>\n",
       "      <td>12/1/2016</td>\n",
       "      <td>1.333822</td>\n",
       "      <td>5.297688</td>\n",
       "      <td>4.812537</td>\n",
       "    </tr>\n",
       "    <tr>\n",
       "      <th>3</th>\n",
       "      <td>12/21/2016</td>\n",
       "      <td>1.366752</td>\n",
       "      <td>1.428586</td>\n",
       "      <td>0.991425</td>\n",
       "    </tr>\n",
       "    <tr>\n",
       "      <th>4</th>\n",
       "      <td>12/31/2016</td>\n",
       "      <td>1.140757</td>\n",
       "      <td>1.455441</td>\n",
       "      <td>1.176014</td>\n",
       "    </tr>\n",
       "  </tbody>\n",
       "</table>\n",
       "</div>"
      ],
      "text/plain": [
       "         DATE        EV      WQEV    WQMGEV\n",
       "0   8/23/2016  6.562248  7.484390  6.846831\n",
       "1   9/12/2016  5.121693  6.510322  5.786075\n",
       "2   12/1/2016  1.333822  5.297688  4.812537\n",
       "3  12/21/2016  1.366752  1.428586  0.991425\n",
       "4  12/31/2016  1.140757  1.455441  1.176014"
      ]
     },
     "execution_count": 5,
     "metadata": {},
     "output_type": "execute_result"
    }
   ],
   "source": [
    "# Load GRU predictions\n",
    "gru = pd.read_csv(\"../models/gru/gru_predictions.csv\")\n",
    "gru.head()"
   ]
  },
  {
   "cell_type": "code",
   "execution_count": 6,
   "id": "14b88a66-2dfb-4e1d-98ed-7f4fdeb916d9",
   "metadata": {},
   "outputs": [
    {
     "data": {
      "text/html": [
       "<div>\n",
       "<style scoped>\n",
       "    .dataframe tbody tr th:only-of-type {\n",
       "        vertical-align: middle;\n",
       "    }\n",
       "\n",
       "    .dataframe tbody tr th {\n",
       "        vertical-align: top;\n",
       "    }\n",
       "\n",
       "    .dataframe thead th {\n",
       "        text-align: right;\n",
       "    }\n",
       "</style>\n",
       "<table border=\"1\" class=\"dataframe\">\n",
       "  <thead>\n",
       "    <tr style=\"text-align: right;\">\n",
       "      <th></th>\n",
       "      <th>DATE</th>\n",
       "      <th>EV</th>\n",
       "      <th>WQEV</th>\n",
       "      <th>WQMGEV</th>\n",
       "    </tr>\n",
       "  </thead>\n",
       "  <tbody>\n",
       "    <tr>\n",
       "      <th>0</th>\n",
       "      <td>8/23/2016</td>\n",
       "      <td>6.562248</td>\n",
       "      <td>7.268462</td>\n",
       "      <td>6.853868</td>\n",
       "    </tr>\n",
       "    <tr>\n",
       "      <th>1</th>\n",
       "      <td>9/12/2016</td>\n",
       "      <td>5.121693</td>\n",
       "      <td>6.335850</td>\n",
       "      <td>5.538174</td>\n",
       "    </tr>\n",
       "    <tr>\n",
       "      <th>2</th>\n",
       "      <td>12/1/2016</td>\n",
       "      <td>1.333822</td>\n",
       "      <td>5.433517</td>\n",
       "      <td>4.224401</td>\n",
       "    </tr>\n",
       "    <tr>\n",
       "      <th>3</th>\n",
       "      <td>12/21/2016</td>\n",
       "      <td>1.366752</td>\n",
       "      <td>1.245891</td>\n",
       "      <td>1.249798</td>\n",
       "    </tr>\n",
       "    <tr>\n",
       "      <th>4</th>\n",
       "      <td>12/31/2016</td>\n",
       "      <td>1.140757</td>\n",
       "      <td>0.875852</td>\n",
       "      <td>1.777381</td>\n",
       "    </tr>\n",
       "  </tbody>\n",
       "</table>\n",
       "</div>"
      ],
      "text/plain": [
       "         DATE        EV      WQEV    WQMGEV\n",
       "0   8/23/2016  6.562248  7.268462  6.853868\n",
       "1   9/12/2016  5.121693  6.335850  5.538174\n",
       "2   12/1/2016  1.333822  5.433517  4.224401\n",
       "3  12/21/2016  1.366752  1.245891  1.249798\n",
       "4  12/31/2016  1.140757  0.875852  1.777381"
      ]
     },
     "execution_count": 6,
     "metadata": {},
     "output_type": "execute_result"
    }
   ],
   "source": [
    "# Load BO-GRU predictions\n",
    "bogru = pd.read_csv(\"../models/bogru/bogru_predictions.csv\")\n",
    "bogru.head()"
   ]
  },
  {
   "cell_type": "markdown",
   "id": "c7751ced-40cd-43a8-bcbb-106d057a4121",
   "metadata": {},
   "source": [
    "## Metric Calculation Functions\n",
    "Define metric functions."
   ]
  },
  {
   "cell_type": "code",
   "execution_count": 7,
   "id": "6dd77f31-9124-4e5d-b1de-f21b840f3db9",
   "metadata": {},
   "outputs": [],
   "source": [
    "# Function for mean bias error\n",
    "def mean_bias_error(y_obs, y_pred):\n",
    "    return np.mean(y_pred - y_obs)"
   ]
  },
  {
   "cell_type": "code",
   "execution_count": 8,
   "id": "30b00997-14f8-4eea-a5b9-86a7927d9beb",
   "metadata": {},
   "outputs": [],
   "source": [
    "# Function to compute metrics\n",
    "def metrics(data, y):\n",
    "    obs = data[\"EV\"]\n",
    "    pred = data[y]\n",
    "    mae = mean_absolute_error(obs, pred)\n",
    "    rmse = np.sqrt(mean_squared_error(obs, pred))\n",
    "    mbe = mean_bias_error(obs, pred)\n",
    "    r2 = r2_score(obs, pred)\n",
    "    return r2, mae, rmse, mbe"
   ]
  },
  {
   "cell_type": "markdown",
   "id": "c3c6d449-0cea-4d98-ae44-fb3d5e1f1613",
   "metadata": {},
   "source": [
    "## Compute Metrics\n",
    "Calculate metrics using WQEV."
   ]
  },
  {
   "cell_type": "code",
   "execution_count": 9,
   "id": "64903b82-52aa-4908-99b1-33d9ab35bb1f",
   "metadata": {},
   "outputs": [],
   "source": [
    "# Compute metrics for each model\n",
    "lstm_metrics = metrics(lstm, \"WQEV\")\n",
    "bolstm_metrics = metrics(bolstm, \"WQEV\")\n",
    "gru_metrics = metrics(gru, \"WQEV\")\n",
    "bogru_metrics = metrics(bogru, \"WQEV\")"
   ]
  },
  {
   "cell_type": "markdown",
   "id": "87446a88-858f-4c13-b794-413f9cd530de",
   "metadata": {},
   "source": [
    "## Prepare Plot Data\n",
    "Extract predictions."
   ]
  },
  {
   "cell_type": "code",
   "execution_count": 10,
   "id": "d8346697-4628-47f4-abee-440586023b5a",
   "metadata": {},
   "outputs": [],
   "source": [
    "# Extract observed and predicted values\n",
    "y = lstm['EV']\n",
    "x1 = lstm['WQEV']\n",
    "x2 = bolstm['WQEV']\n",
    "x3 = gru['WQEV']\n",
    "x4 = bogru['WQEV']"
   ]
  },
  {
   "cell_type": "markdown",
   "id": "e646abf6-c5c9-4fbe-bd5e-ad0d5ea3a665",
   "metadata": {},
   "source": [
    "## Model List\n",
    "List models with metrics."
   ]
  },
  {
   "cell_type": "code",
   "execution_count": 11,
   "id": "40f2f139-7674-4a53-be41-4c7b28a3abd1",
   "metadata": {},
   "outputs": [],
   "source": [
    "# List of models\n",
    "models = [\n",
    "    (x1, lstm_metrics, 'LSTM'),\n",
    "    (x2, bolstm_metrics, 'BO-LSTM'),\n",
    "    (x3, gru_metrics, 'GRU'),\n",
    "    (x4, bogru_metrics, 'BO-GRU')\n",
    "]"
   ]
  },
  {
   "cell_type": "markdown",
   "id": "67e7881a-63b7-4c3a-9bc8-1fd520d205d3",
   "metadata": {},
   "source": [
    "## Generate Plots\n",
    "Create plots for each model."
   ]
  },
  {
   "cell_type": "code",
   "execution_count": 12,
   "id": "f1e9b58b-6268-458c-839a-75e1d3679566",
   "metadata": {},
   "outputs": [],
   "source": [
    "# Generate plots\n",
    "for model, m, label in models:\n",
    "    fig, ax = plt.subplots(figsize=(7, 6), dpi=600)\n",
    "\n",
    "    sns.kdeplot(x=model, y=y, levels=10, cmap='CMRmap_r', alpha=0.6, fill=True, ax=ax)\n",
    "    ax.scatter(y, model, color='deepskyblue', s=60, alpha=0.8, edgecolor='black')\n",
    "    ax.plot([0, 11], [0, 11], color='red', linestyle='--', linewidth=3)\n",
    "    ax.scatter([0], [0], label=label, c='white', s=0)\n",
    "\n",
    "    ax.set_xlabel(r\"EV$_{obs}$ (mm/day)\", fontsize=18, labelpad=15)\n",
    "    ax.set_ylabel(r\"EV$_{pred}$ (mm/day)\", fontsize=18, labelpad=15)\n",
    "\n",
    "    ax.legend(loc='upper left', fontsize=18, frameon=False, handletextpad=0.0, handlelength=0)\n",
    "\n",
    "    ax.text(6, 0.5,\n",
    "            f\"R² = {m[0]:.2f}\\nMAE = {m[1]:.2f} (mm/day)\\nRMSE = {m[2]:.2f} (mm/day)\\nMBE = {m[3]:.2f} (mm/day)\",\n",
    "            fontsize=16, color='black')\n",
    "\n",
    "    ax.set_ylim(-0.00, 11)\n",
    "    ax.set_yticks(np.arange(-0.00, 11, 1))\n",
    "    ax.set_xlim(-0.00, 11)\n",
    "    ax.set_xticks(np.arange(-0.00, 11, 1))\n",
    "\n",
    "    ax.tick_params(axis='both', which='major', labelsize=18)\n",
    "\n",
    "    plt.tight_layout()\n",
    "    plt.savefig(f\"./../plots/wq-{label.lower()}.png\", dpi=600, bbox_inches='tight')\n",
    "    plt.close()\n",
    "\n",
    "# plt.show()"
   ]
  }
 ],
 "metadata": {
  "kernelspec": {
   "display_name": "Python 3 (ipykernel)",
   "language": "python",
   "name": "python3"
  },
  "language_info": {
   "codemirror_mode": {
    "name": "ipython",
    "version": 3
   },
   "file_extension": ".py",
   "mimetype": "text/x-python",
   "name": "python",
   "nbconvert_exporter": "python",
   "pygments_lexer": "ipython3",
   "version": "3.12.9"
  }
 },
 "nbformat": 4,
 "nbformat_minor": 5
}
